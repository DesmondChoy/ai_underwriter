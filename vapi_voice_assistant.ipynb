{
  "nbformat": 4,
  "nbformat_minor": 0,
  "metadata": {
    "colab": {
      "provenance": [],
      "authorship_tag": "ABX9TyMd3fv6A6qW+3mzT9Oqs1wS",
      "include_colab_link": true
    },
    "kernelspec": {
      "name": "python3",
      "display_name": "Python 3"
    },
    "language_info": {
      "name": "python"
    }
  },
  "cells": [
    {
      "cell_type": "markdown",
      "metadata": {
        "id": "view-in-github",
        "colab_type": "text"
      },
      "source": [
        "<a href=\"https://colab.research.google.com/github/DesmondChoy/ai_underwriter/blob/main/vapi_voice_assistant.ipynb\" target=\"_parent\"><img src=\"https://colab.research.google.com/assets/colab-badge.svg\" alt=\"Open In Colab\"/></a>"
      ]
    },
    {
      "cell_type": "markdown",
      "source": [
        "# Import libs & setup credentials"
      ],
      "metadata": {
        "id": "ItUBbV3CY5W2"
      }
    },
    {
      "cell_type": "code",
      "source": [
        "import requests\n",
        "from google.colab import userdata\n",
        "\n",
        "# Your Vapi API Authorization token\n",
        "auth_token = userdata.get('VAPI_API')\n",
        "# The Phone Number ID, and the Customer details for the call\n",
        "phone_number_id = userdata.get('TWILIO_NUM')\n",
        "customer_number = userdata.get('CUST_NUM')"
      ],
      "metadata": {
        "id": "GNTqvx-mFf0j"
      },
      "execution_count": 2,
      "outputs": []
    },
    {
      "cell_type": "markdown",
      "source": [
        "# Prompt"
      ],
      "metadata": {
        "id": "-4_G_fiGYyR-"
      }
    },
    {
      "cell_type": "code",
      "source": [
        "first_message = \"\"\"\n",
        "Hello, I'm Sarah, an AI underwriter from Amazing Grace Insurance - following up to complete your risk assessment. Is this a good time to speak?\n",
        "\"\"\"\n",
        "\n",
        "system_prompt = \"\"\"\n",
        "You are an AI life insurance underwriter designed by Happy Life Re, programmed to perform risk assessments for life insurance applicants with sensitivity and precision.\n",
        "\n",
        "# Behaviour\n",
        "Your role is to assist applicants in completing their life insurance applications by asking clear, sensitive, and relevant questions about their health and lifestyle. Begin each interaction with a personalized greeting using the applicant's name, and conclude with a personalized closing, enhancing the user experience.\n",
        "\n",
        "Communicate in empathetic and straightforward language to ensure applicants are comfortable and comprehend the purpose of each question. Before delving into sensitive health-related questions, gently acknowledge the personal nature of these topics, saying something like, \"I understand that discussing health issues can be personal and sometimes difficult, but this information helps us provide you with the best possible service.\"\n",
        "\n",
        "Be vigilant about clarity. If an applicant's response is vague or incomplete, or if they refuse to cooperate, conservatively classify the risk as \"Refer to Manual Underwriter.\" Document all interactions accurately, maintaining a high level of integrity. Assume honesty in responses but verify information subtly as needed, using your knowledge base to provide examples that help clarify questions.\n",
        "\n",
        "Actively identify potential fraudulent behavior by spotting inconsistencies, ensuring all communications respect user privacy and confidentiality. This reinforces the trust applicants place in the process. At the beginning of the interaction, explicitly reassure the applicant about the security measures in place to protect their data and ask for consent to use their responses for underwriting purposes.\n",
        "\n",
        "Be patient and persistent, accommodating a wide range of applicant behaviors and emotional responses. Keep interactions professional and ensure compliance with all relevant medical, legal, ethical, and non-discrimination guidelines.\n",
        "\n",
        "# Purpose\n",
        "As part of a simplified underwriting process, you will ask broad underwriting questions that aim to capture a range of risk factors. Your primary goal is to gather relevant information to determine insurability and risk level.\n",
        "\n",
        "To begin, thank the applicant for providing their basic health information and explain that the upcoming questions are designed to better understand their health and lifestyle in relation to insurance risk.\n",
        "\n",
        "If the initial response to the underwriting question is deemed insufficient to make a decision, use the follow-up questions logic to select and ask follow-up questions that are directly relevant to the applicant's previous answers.\n",
        "\n",
        "If you are asked any questions unrelated to risk assessment, politely inform the applicant that a manual underwriter will reach out to them to address their queries.\n",
        "\n",
        "# Underwriting Question\n",
        "\"In the past five years, have you been diagnosed with, treated for, or advised to seek treatment for any of the following: heart disease, cancer, diabetes, chronic lung or kidney disease, or neurological conditions such as Alzheimer’s or Parkinson’s disease?”\n",
        "\n",
        "## Follow-up Questions Logic\n",
        "Upon receiving an applicant's response, critically analyze the information provided, identifying any potential implications for the applicant's risk assessment. Determine areas within the response that are vague, incomplete, or raise additional questions. Formulate follow-up questions that aim to clarify ambiguities and gather essential information, prioritizing questions that have the most significant impact on understanding the applicant's risk level. Continue asking follow-up questions until there is little to no ambiguity regarding the applicant's risk factors. This iterative process should be conducted with sensitivity and respect for the applicant's privacy and comfort.\n",
        "\n",
        "## Risk assessment criteria\n",
        "- **Standard**: No major health issues reported in the last five years; No ongoing treatment for any serious chronic conditions; Engages in no high-risk activities that significantly increase risk of injury or illness.\n",
        "- **Substandard**: Diagnosed with or treated for major conditions like diabetes, heart disease, but stable and under control with minimal complications; Engages in activities with moderate risk or has minor health issues that could potentially worsen.\n",
        "- **Refer to Manual Underwriter**: Multiple chronic conditions reported or significant treatment history that requires further assessment; Unclear or conflicting information that cannot be accurately assessed through automated processes; High-risk activities reported that need detailed evaluation; Applicant's refusal to cooperate or provide clear answers.\n",
        "- **Decline**: Severe unmanaged chronic conditions with recent complications or poor prognosis; Significant history of treatment for multiple serious illnesses; Engagement in extremely high-risk activities with recent incidents or health impacts.\n",
        "\n",
        "Based on the applicant's responses, provide a summary of their key risk factors and give a preliminary risk classification into one of four categories: Standard, Substandard, Refer to manual underwriter, or Decline. If referring to a manual underwriter or declining coverage, provide a brief explanation for the decision.\n",
        "\n",
        "Inform the applicant that the full transcript of the call, follow-up actions required, and final risk classification will be emailed by the next business day, barring no outstanding issues.\n",
        "\n",
        "Finally, ask the applicant for specific feedback on the clarity of the questions asked and their comfort level with the interaction. This feedback will be used to improve the quality of future calls.\n",
        "\n",
        "**Note**: Under no circumstances can the risk classification be altered at the request of the applicant. All classifications are based strictly on the information provided and assessed according to established guidelines.\n",
        "\"\"\""
      ],
      "metadata": {
        "id": "peWpvHue0i5y"
      },
      "execution_count": 1,
      "outputs": []
    },
    {
      "cell_type": "markdown",
      "source": [
        "# Outbound call to `customer_number`"
      ],
      "metadata": {
        "id": "FkBhS3BJZAWc"
      }
    },
    {
      "cell_type": "code",
      "source": [
        "# Create the header with Authorization token\n",
        "headers = {\n",
        "    'Authorization': f'Bearer {auth_token}',\n",
        "    'Content-Type': 'application/json',\n",
        "}\n",
        "\n",
        "# Create the data payload for the API request\n",
        "data = {\n",
        "    'assistant': {\n",
        "        \"firstMessage\": first_message,\n",
        "        \"model\": {\n",
        "            \"provider\": \"groq\",\n",
        "            \"model\": \"mixtral-8x7b-32768\",\n",
        "            # \"model\": \"claude-3-sonnet-20240229\",\n",
        "            # \"provider\": \"anthropic\",\n",
        "            \"temperature\": 0.7,\n",
        "            \"maxTokens\": 200,\n",
        "            \"messages\": [\n",
        "                {\n",
        "                    \"role\": \"system\",\n",
        "                    \"content\": system_prompt\n",
        "                }\n",
        "            ]\n",
        "        },\n",
        "        \"voice\": {\n",
        "            \"provider\": \"11labs\",\n",
        "            \"voiceId\": \"y6LBjsAZlsXBg7O8pN91\",\n",
        "            #\"emotion\": \"female_happy\",\n",
        "            #\"speed\": 0.8\n",
        "            },\n",
        "        \"endCallPhrases\": [\"goodbye\", \"see you\"],\n",
        "        \"backgroundSound\": \"off\",\n",
        "    },\n",
        "\n",
        "    'phoneNumberId': phone_number_id,\n",
        "    'customer': {\n",
        "        'number': customer_number,\n",
        "    },\n",
        "}\n",
        "\n",
        "# Make the POST request to Vapi to create the phone call\n",
        "response = requests.post(\n",
        "    'https://api.vapi.ai/call/phone', headers=headers, json=data)\n",
        "\n",
        "# Check if the request was successful and print the response\n",
        "if response.status_code == 201:\n",
        "    print('Call created successfully')\n",
        "else:\n",
        "    print('Failed to create call')\n",
        "    print(response.text)\n"
      ],
      "metadata": {
        "colab": {
          "base_uri": "https://localhost:8080/"
        },
        "id": "bnJz7SPuFwgc",
        "outputId": "455d9a71-c3a1-40fb-f605-ea39b46291a1"
      },
      "execution_count": null,
      "outputs": [
        {
          "output_type": "stream",
          "name": "stdout",
          "text": [
            "Call created successfully\n"
          ]
        }
      ]
    },
    {
      "cell_type": "markdown",
      "source": [
        "# Get transcript"
      ],
      "metadata": {
        "id": "TCMGJrGZZVKK"
      }
    },
    {
      "cell_type": "code",
      "source": [
        "# The ID of the call you want the transcript for\n",
        "call_id = '<CALL ID>'\n",
        "\n",
        "# Create the header with Authorization token\n",
        "headers = {\n",
        "    'Authorization': f'Bearer {auth_token}',\n",
        "}\n",
        "\n",
        "# Make the GET request to Vapi to retrieve the call details\n",
        "response = requests.get(\n",
        "    f'https://api.vapi.ai/call/{call_id}', headers=headers)\n",
        "\n",
        "# Check if the request was successful and print the transcript\n",
        "if response.status_code == 200:\n",
        "    print('Transcript:', response.json().get('transcript'))\n",
        "else:\n",
        "    print('Failed to retrieve call details')\n",
        "    print(response.text)"
      ],
      "metadata": {
        "id": "gNcjohjPZWWh"
      },
      "execution_count": null,
      "outputs": []
    }
  ]
}