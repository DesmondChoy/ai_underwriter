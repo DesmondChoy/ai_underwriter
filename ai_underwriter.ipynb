{
  "nbformat": 4,
  "nbformat_minor": 0,
  "metadata": {
    "colab": {
      "provenance": [],
      "authorship_tag": "ABX9TyPwD3MX3soIysuc1iX7yvsX",
      "include_colab_link": true
    },
    "kernelspec": {
      "name": "python3",
      "display_name": "Python 3"
    },
    "language_info": {
      "name": "python"
    }
  },
  "cells": [
    {
      "cell_type": "markdown",
      "metadata": {
        "id": "view-in-github",
        "colab_type": "text"
      },
      "source": [
        "<a href=\"https://colab.research.google.com/github/DesmondChoy/ai_underwriter/blob/main/ai_underwriter.ipynb\" target=\"_parent\"><img src=\"https://colab.research.google.com/assets/colab-badge.svg\" alt=\"Open In Colab\"/></a>"
      ]
    },
    {
      "cell_type": "code",
      "source": [
        "import requests\n",
        "from google.colab import userdata"
      ],
      "metadata": {
        "id": "GNTqvx-mFf0j"
      },
      "execution_count": 1,
      "outputs": []
    },
    {
      "cell_type": "code",
      "source": [
        "first_message = \"\"\"\n",
        "Hello, this is an AI underwriter from Imaginary Life. I'm calling to complete your life insurance risk assessment. Is now a good time to speak?\n",
        "\"\"\"\n",
        "\n",
        "system_prompt = \"\"\"\n",
        "You are an AI life insurance underwriter voice assistant designed to perform risk assessments for life insurance applicants.\n",
        "Your primary goal is to gather relevant information about the applicant's health and medical history to determine their insurability and risk level.\n",
        "To begin, thank the applicant for already providing their basic health information such as age, gender, height, weight, and calculated BMI.\n",
        "Explain that you will ask two questions to learn more details needed for the risk assessment.\n",
        "Based on the applicant's responses, classify them into one of four categories: Standard, Substandard, Refer to manual underwriter, or Decline.\n",
        "If the initial response is deemed insufficient to make a decision, use the follow-up questions to gather more info.\n",
        "\n",
        "<Question #1>\n",
        "Have you been diagnosed with or treated for any chronic health conditions such as diabetes, heart disease, cancer, or respiratory issues? Please describe the condition, when you were diagnosed, treatment received, and your current status.\n",
        "<Question #1 follow-up>\n",
        "Type and severity of condition\n",
        "How long ago they were diagnosed\n",
        "What treatment or medications they receive\n",
        "If the condition is well-controlled or still being actively treated\n",
        "Any related complications or additional diagnoses\n",
        "<Question #1 decision criteria>\n",
        "Standard: Applicant reports no major chronic conditions or past conditions that are fully resolved with no ongoing treatment.\n",
        "Substandard: Applicant has one or more moderate chronic conditions that are well-controlled with medication and monitoring.\n",
        "Refer to manual underwriter: Applicant reports complex or severe chronic conditions requiring substantial treatment, or recent diagnosis needing further evaluation.\n",
        "Decline: Applicant has advanced stage illness, very poorly controlled condition, or severe complications and co-morbidities.\n",
        "\n",
        "*Important*: After asking the first question, pause and wait for a response before asking the second.\n",
        "\n",
        "<Question #2>\n",
        "Are you currently taking any prescription medications? If so, please list each medication, what it treats, the dosage, and how long you've been taking it. Have you had any recent changes to your medications?\n",
        "<Question #2 follow-up>\n",
        "Name and type of each medication\n",
        "Dosage and frequency taken\n",
        "What condition each medication is treating\n",
        "How long they've been on current medication regimen\n",
        "Any recent dosage changes or new medications prescribed\n",
        "<Question #2 decision criteria>\n",
        "Standard: No medications or only takes 1-2 common preventive medications (e.g. for mild hypertension or cholesterol).\n",
        "Substandard: Takes several medications for moderate ongoing conditions. No recent changes or dosage increases.\n",
        "Refer to manual underwriter: Takes multiple medications for less common conditions, has had recent changes or newly prescribed drugs needing evaluation.\n",
        "Decline: Takes extensive medications for severe conditions, recent drug changes indicate unstable or worsening health.\n",
        "\n",
        "Based on the applicant's responses to the two questions, provide a summary of their key risk factors and insurability category. If referring to a manual underwriter or declining coverage, provide a brief explanation for the decision.\n",
        "<Coversation tone>\n",
        "Remember to maintain a professional, empathetic tone throughout the conversation. If the applicant seems unsure or hesitant about any medical specifics, gently probe for more details until you have sufficient information to make an accurate risk assessment.\n",
        "Add filler words and sounds like \"um\", \"uh\", \"like\", \"you know\" etc.\n",
        "Breathe and talk naturally. Avoid speaking too quickly without any breaks.\n",
        "\"\"\""
      ],
      "metadata": {
        "id": "peWpvHue0i5y"
      },
      "execution_count": 2,
      "outputs": []
    },
    {
      "cell_type": "code",
      "source": [
        "# Your Vapi API Authorization token\n",
        "auth_token = userdata.get('VAPI_API')\n",
        "# The Phone Number ID, and the Customer details for the call\n",
        "phone_number_id = userdata.get('TWILIO_NUM')\n",
        "customer_number = userdata.get('CUST_NUM')"
      ],
      "metadata": {
        "id": "bKWYMA-XEDEm"
      },
      "execution_count": 3,
      "outputs": []
    },
    {
      "cell_type": "code",
      "source": [
        "# Create the header with Authorization token\n",
        "headers = {\n",
        "    'Authorization': f'Bearer {auth_token}',\n",
        "    'Content-Type': 'application/json',\n",
        "}\n",
        "\n",
        "# Create the data payload for the API request\n",
        "data = {\n",
        "    'assistant': {\n",
        "        \"firstMessage\": first_message,\n",
        "        \"model\": {\n",
        "            \"provider\": \"groq\",\n",
        "            \"model\": \"mixtral-8x7b-32768\",\n",
        "            # \"model\": \"claude-3-sonnet-20240229\",\n",
        "            # \"provider\": \"anthropic\",\n",
        "            \"temperature\": 0.7,\n",
        "            \"maxTokens\": 500,\n",
        "            \"messages\": [\n",
        "                {\n",
        "                    \"role\": \"system\",\n",
        "                    \"content\": system_prompt\n",
        "                }\n",
        "            ]\n",
        "        },\n",
        "        \"voice\": {\n",
        "            \"provider\": \"playht\",\n",
        "            \"voiceId\": \"jennifer-playht\",\n",
        "            \"emotion\": \"female_happy\",\n",
        "            \"speed\": 0.8\n",
        "            },\n",
        "        \"endCallPhrases\": [\"goodbye\", \"see you\"],\n",
        "        \"backgroundSound\": \"off\",\n",
        "    },\n",
        "\n",
        "    'phoneNumberId': phone_number_id,\n",
        "    'customer': {\n",
        "        'number': customer_number,\n",
        "    },\n",
        "}\n",
        "\n",
        "# Make the POST request to Vapi to create the phone call\n",
        "response = requests.post(\n",
        "    'https://api.vapi.ai/call/phone', headers=headers, json=data)\n",
        "\n",
        "# Check if the request was successful and print the response\n",
        "if response.status_code == 201:\n",
        "    print('Call created successfully')\n",
        "else:\n",
        "    print('Failed to create call')\n",
        "    print(response.text)\n"
      ],
      "metadata": {
        "colab": {
          "base_uri": "https://localhost:8080/"
        },
        "id": "bnJz7SPuFwgc",
        "outputId": "0107bd15-3db1-42bb-c91e-8229ce634084"
      },
      "execution_count": 4,
      "outputs": [
        {
          "output_type": "stream",
          "name": "stdout",
          "text": [
            "Call created successfully\n"
          ]
        }
      ]
    }
  ]
}